{
  "nbformat": 4,
  "nbformat_minor": 0,
  "metadata": {
    "colab": {
      "name": "Tran FTMLE-Module-Test-3.ipynb",
      "provenance": [],
      "collapsed_sections": [],
      "include_colab_link": true
    },
    "coursera": {
      "course_slug": "python-crash-course",
      "graded_item_id": "Z5d28",
      "launcher_item_id": "eSjyd"
    },
    "kernelspec": {
      "display_name": "Python 3",
      "language": "python",
      "name": "python3"
    },
    "language_info": {
      "codemirror_mode": {
        "name": "ipython",
        "version": 3
      },
      "file_extension": ".py",
      "mimetype": "text/x-python",
      "name": "python",
      "nbconvert_exporter": "python",
      "pygments_lexer": "ipython3",
      "version": "3.8.2"
    }
  },
  "cells": [
    {
      "cell_type": "markdown",
      "metadata": {
        "id": "view-in-github",
        "colab_type": "text"
      },
      "source": [
        "<a href=\"https://colab.research.google.com/github/Trantracy/General-Questions-Machine-Learning-/blob/master/General%20Questions%20Machine%20Learning%20.ipynb\" target=\"_parent\"><img src=\"https://colab.research.google.com/assets/colab-badge.svg\" alt=\"Open In Colab\"/></a>"
      ]
    },
    {
      "cell_type": "markdown",
      "metadata": {
        "colab_type": "text",
        "id": "FyJLo1KDnzL_"
      },
      "source": [
        "---\n",
        "### Question 1 (2 point)\n",
        "\n",
        "What is correct about Machine Learning?\n",
        "\n",
        "1) It is just the way to summarize data.\n",
        "\n",
        "2) It just discovers correlations between pairs of events.\n",
        "\n",
        "3) creating systems which can learn from data to get better at some task with given performance measures.\n",
        "\n",
        "4) Machine Learning models cannot be understood or understood by humans. It is a black box.\n",
        "\n",
        "5) Simpler models are more accurate.\n"
      ]
    },
    {
      "cell_type": "code",
      "metadata": {
        "colab_type": "code",
        "deletable": false,
        "id": "TVbBI2v30r73",
        "nbgrader": {
          "cell_type": "code",
          "checksum": "8dbc115662c55c698b1a09716803e8d7",
          "grade": false,
          "grade_id": "question_1",
          "locked": false,
          "schema_version": 3,
          "solution": true,
          "task": false
        },
        "colab": {}
      },
      "source": [
        "def question_1():\n",
        "  # YOUR ANSWER HERE\n",
        "  return [3]"
      ],
      "execution_count": 0,
      "outputs": []
    },
    {
      "cell_type": "code",
      "metadata": {
        "colab_type": "code",
        "deletable": false,
        "editable": false,
        "id": "nv-2S23uXpi_",
        "nbgrader": {
          "cell_type": "code",
          "checksum": "b2207191952dde9622ef1938e6c01ef3",
          "grade": true,
          "grade_id": "question_1_answer",
          "locked": true,
          "points": 2,
          "schema_version": 3,
          "solution": false,
          "task": false
        },
        "colab": {}
      },
      "source": [
        "# Do not delete this cell, this contains marking script!"
      ],
      "execution_count": 0,
      "outputs": []
    },
    {
      "cell_type": "markdown",
      "metadata": {
        "colab_type": "text",
        "id": "BYOtzcD40zsE"
      },
      "source": [
        "---\n",
        "### Question 2 (2 point)\n",
        "\n",
        "What is a label in your dataset?\n",
        "\n",
        "1) It has no function and it is just like for other features in the dataset\n",
        "\n",
        "2) It contains the desired solution/prediction for each instance\n",
        "\n",
        "3) It contains important information for unsupervised learning algorithms\n",
        "\n",
        "4) It can only be in number format.\n",
        "\n"
      ]
    },
    {
      "cell_type": "code",
      "metadata": {
        "colab_type": "code",
        "deletable": false,
        "id": "D_uJ3ELw2qtT",
        "nbgrader": {
          "cell_type": "code",
          "checksum": "86a875409c75dc755991647ef241b050",
          "grade": false,
          "grade_id": "question_2",
          "locked": false,
          "schema_version": 3,
          "solution": true,
          "task": false
        },
        "colab": {}
      },
      "source": [
        "def question_2():\n",
        "  # YOUR ANSWER HERE\n",
        "  return [2]"
      ],
      "execution_count": 0,
      "outputs": []
    },
    {
      "cell_type": "code",
      "metadata": {
        "colab_type": "code",
        "deletable": false,
        "editable": false,
        "id": "P5PaRk9-Xu-a",
        "nbgrader": {
          "cell_type": "code",
          "checksum": "5d0dab22443bad39493c78ce277e227c",
          "grade": true,
          "grade_id": "question_2_answer",
          "locked": true,
          "points": 2,
          "schema_version": 3,
          "solution": false,
          "task": false
        },
        "colab": {}
      },
      "source": [
        "# Do not delete this cell, this contains marking script!"
      ],
      "execution_count": 0,
      "outputs": []
    },
    {
      "cell_type": "markdown",
      "metadata": {
        "colab_type": "text",
        "id": "5TQ0PDq43DjW"
      },
      "source": [
        "---\n",
        "### Question 3 (2 point)\n",
        "\n",
        "What are the common supervised tasks in Machine Learning?\n",
        "\n",
        "1) dimenstionality reduction and regression\n",
        "\n",
        "2) classification and visualization\n",
        "\n",
        "3) clustering and outliner dectection\n",
        "\n",
        "4) regression and classification\n",
        "\n"
      ]
    },
    {
      "cell_type": "code",
      "metadata": {
        "colab_type": "code",
        "deletable": false,
        "id": "1pr26Z644gbq",
        "nbgrader": {
          "cell_type": "code",
          "checksum": "c0e8328a486aa658eca75754c6052970",
          "grade": false,
          "grade_id": "question_3",
          "locked": false,
          "schema_version": 3,
          "solution": true,
          "task": false
        },
        "colab": {}
      },
      "source": [
        "def question_3():\n",
        "  # YOUR ANSWER HERE\n",
        "  return [4]"
      ],
      "execution_count": 0,
      "outputs": []
    },
    {
      "cell_type": "code",
      "metadata": {
        "colab_type": "code",
        "deletable": false,
        "editable": false,
        "id": "K6l7YXekYIlY",
        "nbgrader": {
          "cell_type": "code",
          "checksum": "cc4ab0bd5109255e3f39ce9bea1d94fd",
          "grade": true,
          "grade_id": "question_3_answer",
          "locked": true,
          "points": 2,
          "schema_version": 3,
          "solution": false,
          "task": false
        },
        "colab": {}
      },
      "source": [
        "# Do not delete this cell, this contains marking script!"
      ],
      "execution_count": 0,
      "outputs": []
    },
    {
      "cell_type": "markdown",
      "metadata": {
        "colab_type": "text",
        "id": "mAOLxKhh5AEz"
      },
      "source": [
        "---\n",
        "### Question 4 (2 point)\n",
        "\n",
        "What are the common unsupervised tasks in Machine Learning?\n",
        "\n",
        "1) clustering, visualization, dimensionality reduction.\n",
        "\n",
        "2) classification, outliner dectection, dimensionality reduction.\n",
        "\n",
        "3) clustering, visualization, regression.\n",
        "\n",
        "4) clustering, classification, dimensionality reduction.\n",
        "\n"
      ]
    },
    {
      "cell_type": "code",
      "metadata": {
        "colab_type": "code",
        "deletable": false,
        "id": "IjwJyff17VaI",
        "nbgrader": {
          "cell_type": "code",
          "checksum": "a37954b8a0616c08218530634ba3a5f1",
          "grade": false,
          "grade_id": "question_4",
          "locked": false,
          "schema_version": 3,
          "solution": true,
          "task": false
        },
        "colab": {}
      },
      "source": [
        "def question_4():\n",
        "  # YOUR ANSWER HERE\n",
        "  return [1]"
      ],
      "execution_count": 0,
      "outputs": []
    },
    {
      "cell_type": "code",
      "metadata": {
        "colab_type": "code",
        "deletable": false,
        "editable": false,
        "id": "z3S9EVDRYPx-",
        "nbgrader": {
          "cell_type": "code",
          "checksum": "edb9ed96f41dcaae1e75bbdd2c1bada2",
          "grade": true,
          "grade_id": "question_4_answer",
          "locked": true,
          "points": 2,
          "schema_version": 3,
          "solution": false,
          "task": false
        },
        "colab": {}
      },
      "source": [
        "# Do not delete this cell, this contains marking script!"
      ],
      "execution_count": 0,
      "outputs": []
    },
    {
      "cell_type": "markdown",
      "metadata": {
        "colab_type": "text",
        "id": "Y6xwm5Zs7bqJ"
      },
      "source": [
        "---\n",
        "### Question 5 (2 point)\n",
        "\n",
        "If you want to build a system to detect spam emails, is it supervised learning or unsupervised learning problem?\n",
        "\n",
        "1) unsupervised learning\n",
        "\n",
        "2) supervised learning\n",
        "\n",
        "3) neither of them\n",
        "\n",
        "4) either of them\n",
        "\n"
      ]
    },
    {
      "cell_type": "code",
      "metadata": {
        "colab_type": "code",
        "deletable": false,
        "id": "3TPjPWfI-AEi",
        "nbgrader": {
          "cell_type": "code",
          "checksum": "4a7df0c9c025b0ae792d1d7d1520fe1e",
          "grade": false,
          "grade_id": "question_5",
          "locked": false,
          "schema_version": 3,
          "solution": true,
          "task": false
        },
        "colab": {}
      },
      "source": [
        "def question_5():\n",
        "  # YOUR ANSWER HERE\n",
        "  return [2]"
      ],
      "execution_count": 0,
      "outputs": []
    },
    {
      "cell_type": "code",
      "metadata": {
        "colab_type": "code",
        "deletable": false,
        "editable": false,
        "id": "FgDdv5YNYSLw",
        "nbgrader": {
          "cell_type": "code",
          "checksum": "0c36597899082e09a3e47caf6710649c",
          "grade": true,
          "grade_id": "question_5_answer",
          "locked": true,
          "points": 2,
          "schema_version": 3,
          "solution": false,
          "task": false
        },
        "colab": {}
      },
      "source": [
        "# Do not delete this cell, this contains marking script!"
      ],
      "execution_count": 0,
      "outputs": []
    },
    {
      "cell_type": "markdown",
      "metadata": {
        "colab_type": "text",
        "id": "uIX4kZQ0-EOJ"
      },
      "source": [
        "---\n",
        "### Question 6 (2 point)\n",
        "\n",
        "What is the difference between a model parameter and hyperparameter?\n",
        "\n",
        "1) There is usually one single varible for hyperparameter and many possible variables for model parameters.\n",
        "\n",
        "2) Model parameters are external variables outside of model and determined by us before training while hyperparameters are configurable variables inside of the model and determined after be trained with the data.\n",
        "\n",
        "3) We can fine tune our model parameters but we cannot fine tune hyperparameters.\n",
        "\n",
        "4) Model parameters are internal variables inside of model and determined after be trained with the data while hyperparameters are configurable variables outside of the model and determined by us before training.\n",
        "\n",
        "\n"
      ]
    },
    {
      "cell_type": "code",
      "metadata": {
        "colab_type": "code",
        "deletable": false,
        "id": "pRAEstf4B61x",
        "nbgrader": {
          "cell_type": "code",
          "checksum": "5e173d1516a459d1710107776bc8c590",
          "grade": false,
          "grade_id": "question_6",
          "locked": false,
          "schema_version": 3,
          "solution": true,
          "task": false
        },
        "colab": {}
      },
      "source": [
        "def question_6():\n",
        "  # YOUR ANSWER HERE\n",
        "  return [4]"
      ],
      "execution_count": 0,
      "outputs": []
    },
    {
      "cell_type": "code",
      "metadata": {
        "colab_type": "code",
        "deletable": false,
        "editable": false,
        "id": "QbrCO1TxYUNW",
        "nbgrader": {
          "cell_type": "code",
          "checksum": "df874417c5e7238adc9f9e3267ba32e7",
          "grade": true,
          "grade_id": "question_6_answer",
          "locked": true,
          "points": 2,
          "schema_version": 3,
          "solution": false,
          "task": false
        },
        "colab": {}
      },
      "source": [
        "# Do not delete this cell, this contains marking script!"
      ],
      "execution_count": 0,
      "outputs": []
    },
    {
      "cell_type": "markdown",
      "metadata": {
        "colab_type": "text",
        "id": "xqKZUBj1CDbR"
      },
      "source": [
        "---\n",
        "### Question 7 (2 point)\n",
        "\n",
        "What are the challenges of Machine Learning?\n",
        "\n",
        "1) Lack of data, nonrepresentative data, bad data quality, noisy data, unbalanced classes, simple models which underfit dataset, and complex models which overfit dataset.\n",
        "\n",
        "2) All of the models require great amount of data to work well and predict accurately.\n",
        "\n",
        "3) We have to find tune hypermeters manually each by each for every of combinations of hyperparameters and there are many of those combinations.\n",
        "\n",
        "4) The curse of dimentionality reduces the effectively of distance measurement with no solution to resolve it."
      ]
    },
    {
      "cell_type": "code",
      "metadata": {
        "colab_type": "code",
        "deletable": false,
        "id": "OSiVjCTQDTXa",
        "nbgrader": {
          "cell_type": "code",
          "checksum": "15a548df4cb2cee04b91b96b1ba5d853",
          "grade": false,
          "grade_id": "question_7",
          "locked": false,
          "schema_version": 3,
          "solution": true,
          "task": false
        },
        "colab": {}
      },
      "source": [
        "def question_7():\n",
        "  # YOUR ANSWER HERE\n",
        "  return [1]"
      ],
      "execution_count": 0,
      "outputs": []
    },
    {
      "cell_type": "code",
      "metadata": {
        "colab_type": "code",
        "deletable": false,
        "editable": false,
        "id": "g8J08Uj6YWWv",
        "nbgrader": {
          "cell_type": "code",
          "checksum": "d2ece037e4d8360707995ca9fabfb16c",
          "grade": true,
          "grade_id": "question_7_answer",
          "locked": true,
          "points": 2,
          "schema_version": 3,
          "solution": false,
          "task": false
        },
        "colab": {}
      },
      "source": [
        "# Do not delete this cell, this contains marking script!"
      ],
      "execution_count": 0,
      "outputs": []
    },
    {
      "cell_type": "markdown",
      "metadata": {
        "colab_type": "text",
        "id": "bv0nBkLJJ9ID"
      },
      "source": [
        "---\n",
        "### Question 8 (2 point)\n",
        "\n",
        "The model has the great accuracy on the training set but has the poor accuracy on test set or new unseen instances, what is the possible reason?\n",
        "\n",
        "1) The model seems to underfit the training set.\n",
        "\n",
        "2) The model seems to overfit the training set.\n",
        "\n",
        "3) It could be both underfit and overfit the training set.\n",
        "\n",
        "4) It must be neither of them."
      ]
    },
    {
      "cell_type": "code",
      "metadata": {
        "colab_type": "code",
        "deletable": false,
        "id": "p0wfv5FvKel6",
        "nbgrader": {
          "cell_type": "code",
          "checksum": "3eda0e9e6924295148c3827f6fb00f79",
          "grade": false,
          "grade_id": "question_8",
          "locked": false,
          "schema_version": 3,
          "solution": true,
          "task": false
        },
        "colab": {}
      },
      "source": [
        "def question_8():\n",
        "  # YOUR ANSWER HERE\n",
        "  return [2]"
      ],
      "execution_count": 0,
      "outputs": []
    },
    {
      "cell_type": "code",
      "metadata": {
        "colab_type": "code",
        "deletable": false,
        "editable": false,
        "id": "D1sVszR4YX_j",
        "nbgrader": {
          "cell_type": "code",
          "checksum": "00550c1c446220ad6f15183f27e08573",
          "grade": true,
          "grade_id": "question_8_answer",
          "locked": true,
          "points": 2,
          "schema_version": 3,
          "solution": false,
          "task": false
        },
        "colab": {}
      },
      "source": [
        "# Do not delete this cell, this contains marking script!"
      ],
      "execution_count": 0,
      "outputs": []
    },
    {
      "cell_type": "markdown",
      "metadata": {
        "colab_type": "text",
        "id": "aADMGCwWKvnK"
      },
      "source": [
        "---\n",
        "### Question 9 (2 point)\n",
        "\n",
        "If the model overfit the training data, what are possible solutions?\n",
        "\n",
        "1) Get more data OR choose a simpler model OR regularize the model to restrict its flexibility with hyperparameters OR reduce the noise in traing data.\n",
        "\n",
        "2) Should train with less data OR choose a more complex model OR regularize the model to increase its flexibility with hyperparameters OR reduce the noise in traing data.\n",
        "\n",
        "3) Get more data OR choose a more complex model OR regularize the model to restrict its flexibility with hyperparameters OR reduce the noise in traing data.\n",
        "\n",
        "4) Should train with less data OR choose a simpler model OR regularize the model to restrict its flexibility with hyperparameters OR reduce the noise in traing data."
      ]
    },
    {
      "cell_type": "code",
      "metadata": {
        "colab_type": "code",
        "deletable": false,
        "id": "ly2IJPzuMMRc",
        "nbgrader": {
          "cell_type": "code",
          "checksum": "0f6bff34ac1ecd28d3f836373335e8d7",
          "grade": false,
          "grade_id": "question_9",
          "locked": false,
          "schema_version": 3,
          "solution": true,
          "task": false
        },
        "colab": {}
      },
      "source": [
        "def question_9():\n",
        "  # YOUR ANSWER HERE\n",
        "  return [1]"
      ],
      "execution_count": 0,
      "outputs": []
    },
    {
      "cell_type": "code",
      "metadata": {
        "colab_type": "code",
        "deletable": false,
        "editable": false,
        "id": "kj3uvh0rYZg2",
        "nbgrader": {
          "cell_type": "code",
          "checksum": "3bfc5a1ff8d64c9ab05ab976ff2e1e7c",
          "grade": true,
          "grade_id": "question_9_answer",
          "locked": true,
          "points": 2,
          "schema_version": 3,
          "solution": false,
          "task": false
        },
        "colab": {}
      },
      "source": [
        "# Do not delete this cell, this contains marking script!"
      ],
      "execution_count": 0,
      "outputs": []
    },
    {
      "cell_type": "markdown",
      "metadata": {
        "colab_type": "text",
        "id": "1XrA1F__MP1K"
      },
      "source": [
        "---\n",
        "### Question 10 (2 point)\n",
        "\n",
        "What is the purpose of test set?\n",
        "\n",
        "1) It is the set which we should always fine tune our hyperparameters with it.\n",
        "\n",
        "2) It is a test that we leave it till the end to test our final model's performance before production.\n",
        "\n",
        "3) It is the set we can train our model with it.\n",
        "\n",
        "4) It is the set which should be analysed to detect any pattern by human to training our model later."
      ]
    },
    {
      "cell_type": "code",
      "metadata": {
        "colab_type": "code",
        "deletable": false,
        "id": "z0NBrQqdNPrr",
        "nbgrader": {
          "cell_type": "code",
          "checksum": "0b5b4ad7db738f3e0560f5ed740b2c0c",
          "grade": false,
          "grade_id": "question_10",
          "locked": false,
          "schema_version": 3,
          "solution": true,
          "task": false
        },
        "colab": {}
      },
      "source": [
        "def question_10():\n",
        "  # YOUR ANSWER HERE\n",
        "  return [2]"
      ],
      "execution_count": 0,
      "outputs": []
    },
    {
      "cell_type": "code",
      "metadata": {
        "colab_type": "code",
        "deletable": false,
        "editable": false,
        "id": "0FLsMJTNYbY9",
        "nbgrader": {
          "cell_type": "code",
          "checksum": "6f64780fdc4a13db9e1247684e8886c1",
          "grade": true,
          "grade_id": "question_10_answer",
          "locked": true,
          "points": 2,
          "schema_version": 3,
          "solution": false,
          "task": false
        },
        "colab": {}
      },
      "source": [
        "# Do not delete this cell, this contains marking script!"
      ],
      "execution_count": 0,
      "outputs": []
    },
    {
      "cell_type": "markdown",
      "metadata": {
        "colab_type": "text",
        "id": "TMMVUPO8PnXq"
      },
      "source": [
        "---\n",
        "### Question 11 (2 point)\n",
        "\n",
        "What is correct about validation set?\n",
        "\n",
        "1) It is the set to train our model along with test set.\n",
        "\n",
        "2) It can only be created using k-fold cross validation.\n",
        "\n",
        "3) It is the set is used to fine tune hyperparameters, compare models and select the best potential model. \n",
        "\n",
        "4) It is the same with train set."
      ]
    },
    {
      "cell_type": "code",
      "metadata": {
        "colab_type": "code",
        "deletable": false,
        "id": "dpdHoQyXRtoF",
        "nbgrader": {
          "cell_type": "code",
          "checksum": "ef3e8093bee9b8d3e432c3bdfae3b83f",
          "grade": false,
          "grade_id": "question_11",
          "locked": false,
          "schema_version": 3,
          "solution": true,
          "task": false
        },
        "colab": {}
      },
      "source": [
        "def question_11():\n",
        "  # YOUR ANSWER HERE\n",
        "  return [3]"
      ],
      "execution_count": 0,
      "outputs": []
    },
    {
      "cell_type": "code",
      "metadata": {
        "colab_type": "code",
        "deletable": false,
        "editable": false,
        "id": "pOeiJxLrYdug",
        "nbgrader": {
          "cell_type": "code",
          "checksum": "b02635b08cf56649ef82b0c2ba24d3c5",
          "grade": true,
          "grade_id": "question_11_answer",
          "locked": true,
          "points": 2,
          "schema_version": 3,
          "solution": false,
          "task": false
        },
        "colab": {}
      },
      "source": [
        "# Do not delete this cell, this contains marking script!"
      ],
      "execution_count": 0,
      "outputs": []
    },
    {
      "cell_type": "markdown",
      "metadata": {
        "colab_type": "text",
        "id": "yoFEFrE83a1q"
      },
      "source": [
        "---\n",
        "### Question 12 (2 point)\n",
        "\n",
        "What will happen if you tune hyperparameters using test set instead of validation set?\n",
        "\n",
        "1) Nothing will happen. Everything is fine. Calm down!\n",
        "\n",
        "2) Those tuned hyperparameters might make the model overfit with test set so the post-production performance might be bad because our model does not generalise well with unseen data/real life data.\n",
        "\n",
        "3) This is the best practice of training machine learning model to create the model with the best accuracy when launching to production.\n",
        "\n",
        "4) It is not good because you should tune your hyperparameters with training set. "
      ]
    },
    {
      "cell_type": "code",
      "metadata": {
        "colab_type": "code",
        "deletable": false,
        "id": "Pg5uKmkQ3fd0",
        "nbgrader": {
          "cell_type": "code",
          "checksum": "5b29d50a33f3e1275d0d6bc840f4170e",
          "grade": false,
          "grade_id": "question_12",
          "locked": false,
          "schema_version": 3,
          "solution": true,
          "task": false
        },
        "colab": {}
      },
      "source": [
        "def question_12():\n",
        "  # YOUR ANSWER HERE\n",
        "  return [2]"
      ],
      "execution_count": 0,
      "outputs": []
    },
    {
      "cell_type": "code",
      "metadata": {
        "colab_type": "code",
        "deletable": false,
        "editable": false,
        "id": "D0Hm1hiqYfXV",
        "nbgrader": {
          "cell_type": "code",
          "checksum": "0314150b5e12688e26da7734a3e40e0b",
          "grade": true,
          "grade_id": "question_12_answer",
          "locked": true,
          "points": 2,
          "schema_version": 3,
          "solution": false,
          "task": false
        },
        "colab": {}
      },
      "source": [
        "# Do not delete this cell, this contains marking script!"
      ],
      "execution_count": 0,
      "outputs": []
    },
    {
      "cell_type": "markdown",
      "metadata": {
        "colab_type": "text",
        "id": "5EIej1p73ckD"
      },
      "source": [
        "---\n",
        "### Question 13 (2 point)\n",
        "\n",
        "What happens if the features in your dataset have very different scales?\n",
        "\n",
        "1) Gradient Descent algorithm will take steps in the opposite direction of the minimum of loss function.\n",
        "\n",
        "2) Gradient Descent algorithm will take less steps and converge quickly the minimum of loss function.\n",
        "\n",
        "3) Gradient Descent algorithm will not take any step and stay at the same point in loss function.\n",
        "\n",
        "4) Gradient Descent algorithm will need many more steps to converge/reach the minimum of loss function in more time.\n"
      ]
    },
    {
      "cell_type": "code",
      "metadata": {
        "colab_type": "code",
        "deletable": false,
        "id": "Ww0OdCea-Ti4",
        "nbgrader": {
          "cell_type": "code",
          "checksum": "b4d52c6df999c5c0c4873b442b5a7a1e",
          "grade": false,
          "grade_id": "question_13",
          "locked": false,
          "schema_version": 3,
          "solution": true,
          "task": false
        },
        "colab": {}
      },
      "source": [
        "def question_13():\n",
        "  # YOUR ANSWER HERE\n",
        "  return [4]"
      ],
      "execution_count": 0,
      "outputs": []
    },
    {
      "cell_type": "code",
      "metadata": {
        "colab_type": "code",
        "deletable": false,
        "editable": false,
        "id": "77jRVeWEYhN0",
        "nbgrader": {
          "cell_type": "code",
          "checksum": "892415e4d3c7907df538bcf53c084842",
          "grade": true,
          "grade_id": "question_13_answer",
          "locked": true,
          "points": 2,
          "schema_version": 3,
          "solution": false,
          "task": false
        },
        "colab": {}
      },
      "source": [
        "# Do not delete this cell, this contains marking script!"
      ],
      "execution_count": 0,
      "outputs": []
    },
    {
      "cell_type": "markdown",
      "metadata": {
        "colab_type": "text",
        "id": "CwnASfrY-nh8"
      },
      "source": [
        "---\n",
        "### Question 14 (2 point)\n",
        "\n",
        "Can Gradient Descent get stuck in a local minimum in Logistic Regression model?\n",
        "\n",
        "1) Yes, of course, it is always possible to get stuck.\n",
        "\n",
        "2) No, because the cost function of logistic regression in convex.\n",
        "\n",
        "3) No, because Graduent Descent will never get stuck with any loss function.\n",
        "\n",
        "4) It could be yes or no, it depends how you initialise your model parameters."
      ]
    },
    {
      "cell_type": "code",
      "metadata": {
        "colab_type": "code",
        "deletable": false,
        "id": "vPOa6u4Lxos9",
        "nbgrader": {
          "cell_type": "code",
          "checksum": "361cdd301d55fc7cbcced923c733f659",
          "grade": false,
          "grade_id": "question_14",
          "locked": false,
          "schema_version": 3,
          "solution": true,
          "task": false
        },
        "colab": {}
      },
      "source": [
        "def question_14():\n",
        "  # YOUR ANSWER HERE\n",
        "  return [2]"
      ],
      "execution_count": 0,
      "outputs": []
    },
    {
      "cell_type": "code",
      "metadata": {
        "colab_type": "code",
        "deletable": false,
        "editable": false,
        "id": "MJeMsV3YYjCp",
        "nbgrader": {
          "cell_type": "code",
          "checksum": "95f4a3740297c157e1d27021f21796a2",
          "grade": true,
          "grade_id": "question_14_answer",
          "locked": true,
          "points": 2,
          "schema_version": 3,
          "solution": false,
          "task": false
        },
        "colab": {}
      },
      "source": [
        "# Do not delete this cell, this contains marking script!"
      ],
      "execution_count": 0,
      "outputs": []
    },
    {
      "cell_type": "markdown",
      "metadata": {
        "id": "XRQZwouXNa_A",
        "colab_type": "text"
      },
      "source": [
        "---\n",
        "### Question 15 (2 point)\n",
        "\n",
        "What do SVM (Support Vector Machine) try to do?\n",
        "\n",
        "1) It just try to find any decision boundary to seperate the data and the same with logistic regression's decision boundary.\n",
        "\n",
        "2) It try to find decision boundary to seperate the data with the widest margin.\n",
        "\n",
        "3) It try to find decision boundary to seperate the data only when the data is linearly separable.\n",
        "\n",
        "4) It try to find decision boundary and also try to fit as many as data points inside its margin. "
      ]
    },
    {
      "cell_type": "code",
      "metadata": {
        "deletable": false,
        "nbgrader": {
          "cell_type": "code",
          "checksum": "5e63c6f5262e7e180d08f8652471650d",
          "grade": false,
          "grade_id": "question_15",
          "locked": false,
          "schema_version": 3,
          "solution": true,
          "task": false
        },
        "id": "gMqc785NNa_A",
        "colab_type": "code",
        "colab": {}
      },
      "source": [
        "def question_15():\n",
        "  # YOUR ANSWER HERE\n",
        "  return [2]"
      ],
      "execution_count": 0,
      "outputs": []
    },
    {
      "cell_type": "code",
      "metadata": {
        "deletable": false,
        "editable": false,
        "nbgrader": {
          "cell_type": "code",
          "checksum": "28925909364a6e856f54ba22e6a805a7",
          "grade": true,
          "grade_id": "question_15_answer",
          "locked": true,
          "points": 2,
          "schema_version": 3,
          "solution": false,
          "task": false
        },
        "id": "5_RDWbHjNa_E",
        "colab_type": "code",
        "colab": {}
      },
      "source": [
        "# Do not delete this cell, this contains marking script!"
      ],
      "execution_count": 0,
      "outputs": []
    },
    {
      "cell_type": "markdown",
      "metadata": {
        "id": "-aOzWCNNNa_H",
        "colab_type": "text"
      },
      "source": [
        "---\n",
        "### Question 16 (2 point)\n",
        "\n",
        "What is support vectors of SVM?\n",
        "\n",
        "1) All the points are furthest away from the decision boundary.\n",
        "\n",
        "2) Random points are nearest to from the decision boundary.\n",
        "\n",
        "3) The points are on the border of the margin and nearest to from the decision boundary, which help to determine the decision boundary.\n",
        "\n",
        "4) Any points of the dataset can be support vectors."
      ]
    },
    {
      "cell_type": "code",
      "metadata": {
        "deletable": false,
        "nbgrader": {
          "cell_type": "code",
          "checksum": "18eb863fe60c1449546701cc932e1aaf",
          "grade": false,
          "grade_id": "question_16",
          "locked": false,
          "schema_version": 3,
          "solution": true,
          "task": false
        },
        "id": "WKy2al9RNa_I",
        "colab_type": "code",
        "colab": {}
      },
      "source": [
        "def question_16():\n",
        "  # YOUR ANSWER HERE\n",
        "  return [3]"
      ],
      "execution_count": 0,
      "outputs": []
    },
    {
      "cell_type": "code",
      "metadata": {
        "deletable": false,
        "editable": false,
        "nbgrader": {
          "cell_type": "code",
          "checksum": "f8170eac503f74e2619ef0b6969e8885",
          "grade": true,
          "grade_id": "question_16_answer",
          "locked": true,
          "points": 2,
          "schema_version": 3,
          "solution": false,
          "task": false
        },
        "id": "OllncM14Na_L",
        "colab_type": "code",
        "colab": {}
      },
      "source": [
        "# Do not delete this cell, this contains marking script!"
      ],
      "execution_count": 0,
      "outputs": []
    },
    {
      "cell_type": "markdown",
      "metadata": {
        "id": "3Tpq0np7Na_O",
        "colab_type": "text"
      },
      "source": [
        "---\n",
        "### Question 17 (2 point)\n",
        "\n",
        "We have The SVM with RBF kernal to classify non-linear separable data. It seems to underfit the training set. Should you increase or decrease the C or gamma hyperparameter value?\n",
        "\n",
        "1) Increase C value Or Increase gama value\n",
        "\n",
        "2) Decrease C value And Decrease gama value\n",
        "\n",
        "3) Decrease C value\n",
        "\n",
        "4) Decrease game value"
      ]
    },
    {
      "cell_type": "code",
      "metadata": {
        "deletable": false,
        "nbgrader": {
          "cell_type": "code",
          "checksum": "2ab555fd686d8469deddbe40355e7303",
          "grade": false,
          "grade_id": "question_17",
          "locked": false,
          "schema_version": 3,
          "solution": true,
          "task": false
        },
        "id": "RAkSgpOwNa_O",
        "colab_type": "code",
        "colab": {}
      },
      "source": [
        "def question_17():\n",
        "  # YOUR ANSWER HERE\n",
        "  return [1]"
      ],
      "execution_count": 0,
      "outputs": []
    },
    {
      "cell_type": "code",
      "metadata": {
        "deletable": false,
        "editable": false,
        "nbgrader": {
          "cell_type": "code",
          "checksum": "53a9229edfbc629a1b20f0aa24da55a6",
          "grade": true,
          "grade_id": "question_17_answer",
          "locked": true,
          "points": 2,
          "schema_version": 3,
          "solution": false,
          "task": false
        },
        "id": "GfmxyFLqNa_Q",
        "colab_type": "code",
        "colab": {}
      },
      "source": [
        "# Do not delete this cell, this contains marking script!"
      ],
      "execution_count": 0,
      "outputs": []
    },
    {
      "cell_type": "markdown",
      "metadata": {
        "id": "JtjIyu8XNa_V",
        "colab_type": "text"
      },
      "source": [
        "---\n",
        "### Question 18 (2 point)\n",
        "\n",
        "What are the common measures of impurity of a node in decision tree?\n",
        "\n",
        "1) Euclidean and Manhattan\n",
        "\n",
        "2) MAE and RMSE\n",
        "\n",
        "3) Gini Index and entrophy\n",
        "\n",
        "4) log loss "
      ]
    },
    {
      "cell_type": "code",
      "metadata": {
        "deletable": false,
        "nbgrader": {
          "cell_type": "code",
          "checksum": "a3387259c92ce4182ab7239d08092e54",
          "grade": false,
          "grade_id": "question_18",
          "locked": false,
          "schema_version": 3,
          "solution": true,
          "task": false
        },
        "id": "-H8MsaHFNa_X",
        "colab_type": "code",
        "colab": {}
      },
      "source": [
        "def question_18():\n",
        "  # YOUR ANSWER HERE\n",
        "  return [3]"
      ],
      "execution_count": 0,
      "outputs": []
    },
    {
      "cell_type": "code",
      "metadata": {
        "deletable": false,
        "editable": false,
        "nbgrader": {
          "cell_type": "code",
          "checksum": "06dc0eea697e2581532db781f90ec0fd",
          "grade": true,
          "grade_id": "question_18_answer",
          "locked": true,
          "points": 2,
          "schema_version": 3,
          "solution": false,
          "task": false
        },
        "id": "YOXXDc0LNa_b",
        "colab_type": "code",
        "colab": {}
      },
      "source": [
        "# Do not delete this cell, this contains marking script!"
      ],
      "execution_count": 0,
      "outputs": []
    },
    {
      "cell_type": "markdown",
      "metadata": {
        "id": "ikUj0mK-Na_d",
        "colab_type": "text"
      },
      "source": [
        "---\n",
        "### Question 19 (2 point)\n",
        "\n",
        "The decision tree overfit the train set so what should we do?\n",
        "\n",
        "1) We should not change max_depth since we are not what is max_depth hyperparameter\n",
        "\n",
        "2) We increase max_depth so the tree heigh will be deeper to remember more data patterns.\n",
        "\n",
        "3) We decrease max_depth so it will constrain the model to regularise it.\n",
        "\n",
        "4) We should not change max_depth since any change will surely make the tree will more overfit."
      ]
    },
    {
      "cell_type": "code",
      "metadata": {
        "deletable": false,
        "nbgrader": {
          "cell_type": "code",
          "checksum": "e01e56fe7fcf06fe05304c0fe9291c4b",
          "grade": false,
          "grade_id": "question_19",
          "locked": false,
          "schema_version": 3,
          "solution": true,
          "task": false
        },
        "id": "qLeg0ZECNa_d",
        "colab_type": "code",
        "colab": {}
      },
      "source": [
        "def question_19():\n",
        "  # YOUR ANSWER HERE\n",
        "  return [3]"
      ],
      "execution_count": 0,
      "outputs": []
    },
    {
      "cell_type": "code",
      "metadata": {
        "deletable": false,
        "editable": false,
        "nbgrader": {
          "cell_type": "code",
          "checksum": "9193e035e351f88e943d22c9d91bf5a1",
          "grade": true,
          "grade_id": "question_19_answer",
          "locked": true,
          "points": 2,
          "schema_version": 3,
          "solution": false,
          "task": false
        },
        "id": "pHnIxlRdNa_g",
        "colab_type": "code",
        "colab": {}
      },
      "source": [
        "# Do not delete this cell, this contains marking script!"
      ],
      "execution_count": 0,
      "outputs": []
    },
    {
      "cell_type": "markdown",
      "metadata": {
        "id": "XxMgji8INa_k",
        "colab_type": "text"
      },
      "source": [
        "---\n",
        "### Question 20 (2 point)\n",
        "\n",
        "What is the purposes of dimensionality reduction?\n",
        "\n",
        "1) To reduce the dimensions to summarise and understood by human\n",
        "\n",
        "2) To add more features into the data, move the data into higher dimension via SVM kernels.\n",
        "\n",
        "3) To transform the features into more meaningful features to human like feature engineering.\n",
        "\n",
        "4) Speed up training, remove noise, reduce unimportant features, visualisation, save space due to compression, resolve curse of dimensionality."
      ]
    },
    {
      "cell_type": "code",
      "metadata": {
        "deletable": false,
        "nbgrader": {
          "cell_type": "code",
          "checksum": "fb65158fd10cc946d47f47766faee41e",
          "grade": false,
          "grade_id": "question_20",
          "locked": false,
          "schema_version": 3,
          "solution": true,
          "task": false
        },
        "id": "QPkfI9ekNa_l",
        "colab_type": "code",
        "colab": {}
      },
      "source": [
        "def question_20():\n",
        "  # YOUR ANSWER HERE\n",
        "  return [4]"
      ],
      "execution_count": 0,
      "outputs": []
    },
    {
      "cell_type": "code",
      "metadata": {
        "deletable": false,
        "editable": false,
        "nbgrader": {
          "cell_type": "code",
          "checksum": "ce1203fed16d5173424b79c89809d5e2",
          "grade": true,
          "grade_id": "question_20_answer",
          "locked": true,
          "points": 2,
          "schema_version": 3,
          "solution": false,
          "task": false
        },
        "id": "Q5QSjvU9Na_o",
        "colab_type": "code",
        "colab": {}
      },
      "source": [
        "# Do not delete this cell, this contains marking script!"
      ],
      "execution_count": 0,
      "outputs": []
    },
    {
      "cell_type": "markdown",
      "metadata": {
        "id": "Ic-WlUc4Na_q",
        "colab_type": "text"
      },
      "source": [
        "---\n",
        "### Question 21 (2 point)\n",
        "\n",
        "What is the curse of dimensionality?\n",
        "\n",
        "1) The data in higher dimension will be very spare, so the data points are very further apart, it is difficult to identify patterns in data since the distance measurement is not effective any more.\n",
        "\n",
        "2) The data in lower dimension will be very dense, so the data points are very close together, it is difficult to identify patterns in data since the distance measurement is not effective any more.\n",
        "\n",
        "3) The data in high dimension will provide too much information for the model to learn so the model is overwheming with the amount of data.\n",
        "\n",
        "4) The data in high dimension is difficult to visualise for human to see and detect any pattern in the data."
      ]
    },
    {
      "cell_type": "code",
      "metadata": {
        "deletable": false,
        "nbgrader": {
          "cell_type": "code",
          "checksum": "27fc0eeedf03a86546ecee5dcb3365b6",
          "grade": false,
          "grade_id": "question_21",
          "locked": false,
          "schema_version": 3,
          "solution": true,
          "task": false
        },
        "id": "7OloZzQANa_q",
        "colab_type": "code",
        "colab": {}
      },
      "source": [
        "def question_21():\n",
        "  # YOUR ANSWER HERE\n",
        "  return [1]"
      ],
      "execution_count": 0,
      "outputs": []
    },
    {
      "cell_type": "code",
      "metadata": {
        "deletable": false,
        "editable": false,
        "nbgrader": {
          "cell_type": "code",
          "checksum": "b0dc645acfc7c09554c1ae9d6fb3b13a",
          "grade": true,
          "grade_id": "question_21_answer",
          "locked": true,
          "points": 2,
          "schema_version": 3,
          "solution": false,
          "task": false
        },
        "id": "0KFhQczMNa_x",
        "colab_type": "code",
        "colab": {}
      },
      "source": [
        "# Do not delete this cell, this contains marking script!"
      ],
      "execution_count": 0,
      "outputs": []
    },
    {
      "cell_type": "markdown",
      "metadata": {
        "id": "Z8trYqqJNa_z",
        "colab_type": "text"
      },
      "source": [
        "---\n",
        "### Question 22 (2 point)\n",
        "\n",
        "after using dimension reduction technique, is it possible to reverse the data back to its original number of dimensions?\n",
        "\n",
        "1) Yes with perfect information reserved. \n",
        "\n",
        "2) Yes with partial information is lost.\n",
        "\n",
        "3) No, because dimension reduction is one way techique.\n",
        "\n",
        "4) No, because all of the information of the orginal data is lost."
      ]
    },
    {
      "cell_type": "code",
      "metadata": {
        "deletable": false,
        "nbgrader": {
          "cell_type": "code",
          "checksum": "e5aa1ae571e88c05ad2c71977b9cdc28",
          "grade": false,
          "grade_id": "question_22",
          "locked": false,
          "schema_version": 3,
          "solution": true,
          "task": false
        },
        "id": "eH8UeuT8Na_0",
        "colab_type": "code",
        "colab": {}
      },
      "source": [
        "def question_22():\n",
        "  # YOUR ANSWER HERE\n",
        "  return [2]"
      ],
      "execution_count": 0,
      "outputs": []
    },
    {
      "cell_type": "code",
      "metadata": {
        "deletable": false,
        "editable": false,
        "nbgrader": {
          "cell_type": "code",
          "checksum": "8d0ec1ed932f7109af0c9dfbc5c3eaf5",
          "grade": true,
          "grade_id": "question_22_answer",
          "locked": true,
          "points": 2,
          "schema_version": 3,
          "solution": false,
          "task": false
        },
        "id": "e0n2xXNsNa_3",
        "colab_type": "code",
        "colab": {}
      },
      "source": [
        "# Do not delete this cell, this contains marking script!"
      ],
      "execution_count": 0,
      "outputs": []
    },
    {
      "cell_type": "markdown",
      "metadata": {
        "id": "CINrjFgHNa_6",
        "colab_type": "text"
      },
      "source": [
        "---\n",
        "### Question 23 (2 point)\n",
        "\n",
        "What is the idea of TF-IDF (Term Frequency - Inverse Document Frequency) ?\n",
        "\n",
        "1) If the word is common and it appears in many documents then its TF-IDF is low and approach 0. Otherwise, it will approach 1\n",
        "\n",
        "2) TF-IDF only uses to calculate the frequency of vocabulary of the corpus.\n",
        "\n",
        "3) If the word is common and it appears in many documents then its TF-IDF is high and approach 1. Otherwise, it will approach 0\n",
        "\n",
        "4) If the word is common then its TF-IDF surely will be high."
      ]
    },
    {
      "cell_type": "code",
      "metadata": {
        "deletable": false,
        "nbgrader": {
          "cell_type": "code",
          "checksum": "df11af3fb7b16aa8d628d2203548e992",
          "grade": false,
          "grade_id": "question_23",
          "locked": false,
          "schema_version": 3,
          "solution": true,
          "task": false
        },
        "id": "SrHOBWjRNa_7",
        "colab_type": "code",
        "colab": {}
      },
      "source": [
        "def question_23():\n",
        "  # YOUR ANSWER HERE\n",
        "  return [1]"
      ],
      "execution_count": 0,
      "outputs": []
    },
    {
      "cell_type": "code",
      "metadata": {
        "deletable": false,
        "editable": false,
        "nbgrader": {
          "cell_type": "code",
          "checksum": "3c04141300624c50eea6a461cb2cbc4d",
          "grade": true,
          "grade_id": "question_23_answer",
          "locked": true,
          "points": 2,
          "schema_version": 3,
          "solution": false,
          "task": false
        },
        "id": "vExMlY7tNa__",
        "colab_type": "code",
        "colab": {}
      },
      "source": [
        "# Do not delete this cell, this contains marking script!"
      ],
      "execution_count": 0,
      "outputs": []
    },
    {
      "cell_type": "markdown",
      "metadata": {
        "id": "8IWtZt1GNbAE",
        "colab_type": "text"
      },
      "source": [
        "---\n",
        "### Question 24 (2 point)\n",
        "\n",
        "What is the purpose of clustering ?\n",
        "\n",
        "1) Classify samples/instances to different given labels for classifcation.\n",
        "\n",
        "2) Group similar samples/instances together.\n",
        "\n",
        "3) Only to create dendrogram diagrams.\n",
        "\n",
        "4) Predict a trend of numeric data."
      ]
    },
    {
      "cell_type": "code",
      "metadata": {
        "deletable": false,
        "nbgrader": {
          "cell_type": "code",
          "checksum": "cc6a43affb72c2e78988214d267a712b",
          "grade": false,
          "grade_id": "question_24",
          "locked": false,
          "schema_version": 3,
          "solution": true,
          "task": false
        },
        "id": "IPLUXWmLNbAE",
        "colab_type": "code",
        "colab": {}
      },
      "source": [
        "def question_24():\n",
        "  # YOUR ANSWER HERE\n",
        "  return [2]"
      ],
      "execution_count": 0,
      "outputs": []
    },
    {
      "cell_type": "code",
      "metadata": {
        "deletable": false,
        "editable": false,
        "nbgrader": {
          "cell_type": "code",
          "checksum": "c8dfaf19de761b5c6c439b027689888d",
          "grade": true,
          "grade_id": "question_24_answer",
          "locked": true,
          "points": 2,
          "schema_version": 3,
          "solution": false,
          "task": false
        },
        "id": "A1TuK1syNbAH",
        "colab_type": "code",
        "colab": {}
      },
      "source": [
        "# Do not delete this cell, this contains marking script!"
      ],
      "execution_count": 0,
      "outputs": []
    },
    {
      "cell_type": "markdown",
      "metadata": {
        "id": "-hf-Kg8iNbAK",
        "colab_type": "text"
      },
      "source": [
        "---\n",
        "### Question 25 (2 point)\n",
        "\n",
        "What is the applications of clustering algorithm?\n",
        "\n",
        "1) Dimensionality reduction, compression, classification\n",
        "\n",
        "2) Regression, classification, compression\n",
        "\n",
        "3) Customer segmentation, dimensionality reduction, compression\n",
        "\n",
        "4) Customer segmentation, classification, compression"
      ]
    },
    {
      "cell_type": "code",
      "metadata": {
        "deletable": false,
        "nbgrader": {
          "cell_type": "code",
          "checksum": "757710b2d702e39cb0b2e5f40374ecbc",
          "grade": false,
          "grade_id": "question_25",
          "locked": false,
          "schema_version": 3,
          "solution": true,
          "task": false
        },
        "id": "iLbiMO_mNbAK",
        "colab_type": "code",
        "colab": {}
      },
      "source": [
        "def question_25():\n",
        "  # YOUR ANSWER HERE\n",
        "  return [3]"
      ],
      "execution_count": 0,
      "outputs": []
    },
    {
      "cell_type": "code",
      "metadata": {
        "deletable": false,
        "editable": false,
        "nbgrader": {
          "cell_type": "code",
          "checksum": "a74f0494b5d0366f824b5af9a995a425",
          "grade": true,
          "grade_id": "question_25_answer",
          "locked": true,
          "points": 2,
          "schema_version": 3,
          "solution": false,
          "task": false
        },
        "id": "cKDd2cy5NbAM",
        "colab_type": "code",
        "colab": {}
      },
      "source": [
        "# Do not delete this cell, this contains marking script!"
      ],
      "execution_count": 0,
      "outputs": []
    },
    {
      "cell_type": "markdown",
      "metadata": {
        "id": "z0PlJuEsNbAP",
        "colab_type": "text"
      },
      "source": [
        "---\n",
        "### Question 26 (2 point)\n",
        "\n",
        "What is the elbow method in K-Means?\n",
        "\n",
        "1) The method to select best K where the mean squared distance is maximum.\n",
        "\n",
        "2) The method to select best K where the mean squared distance is zero.\n",
        "\n",
        "3) The method to select best K by finding the first point of K in the curve of the mean squared distance which stops dropping quickly.\n",
        "\n",
        "4) The method to select best K which is the average of the maximum K and minimum K."
      ]
    },
    {
      "cell_type": "code",
      "metadata": {
        "deletable": false,
        "nbgrader": {
          "cell_type": "code",
          "checksum": "2de4804752b47d07fd47d23b29c4b515",
          "grade": false,
          "grade_id": "question_26",
          "locked": false,
          "schema_version": 3,
          "solution": true,
          "task": false
        },
        "id": "GiZTCAENNbAP",
        "colab_type": "code",
        "colab": {}
      },
      "source": [
        "def question_26():\n",
        "  # YOUR ANSWER HERE\n",
        "  return [3]"
      ],
      "execution_count": 0,
      "outputs": []
    },
    {
      "cell_type": "code",
      "metadata": {
        "deletable": false,
        "editable": false,
        "nbgrader": {
          "cell_type": "code",
          "checksum": "4fb4b689c2adc27bad5dcbb3e24cfa76",
          "grade": true,
          "grade_id": "question_26_answer",
          "locked": true,
          "points": 2,
          "schema_version": 3,
          "solution": false,
          "task": false
        },
        "id": "nzyi1pNFNbAT",
        "colab_type": "code",
        "colab": {}
      },
      "source": [
        "# Do not delete this cell, this contains marking script!"
      ],
      "execution_count": 0,
      "outputs": []
    },
    {
      "cell_type": "markdown",
      "metadata": {
        "id": "hRrcweGCNbAZ",
        "colab_type": "text"
      },
      "source": [
        "---\n",
        "### Question 27 (2 point)\n",
        "\n",
        "What is difference between feature selection and feature engineering?\n",
        "\n",
        "1) Feature selection is to choose the relevant existing features to train while feature engineering is to create new features based on existing ones to train.\n",
        "\n",
        "2) Feature selection is to create new features based on existing ones to train while feature engineering is to choose the relevant existing features to train.\n",
        "\n",
        "3) Feature selection is to remove random features to train while feature engineering is to combine many features into one single feature.\n",
        "\n",
        "4) Feature selection is to select random features to train while feature engineering is to create new random features based on random existing features."
      ]
    },
    {
      "cell_type": "code",
      "metadata": {
        "deletable": false,
        "nbgrader": {
          "cell_type": "code",
          "checksum": "124eacdabc887b92d0977d8820c939c2",
          "grade": false,
          "grade_id": "question_27",
          "locked": false,
          "schema_version": 3,
          "solution": true,
          "task": false
        },
        "id": "ccFRwPgDNbAa",
        "colab_type": "code",
        "colab": {}
      },
      "source": [
        "def question_27():\n",
        "  # YOUR ANSWER HERE\n",
        "  return [1]"
      ],
      "execution_count": 0,
      "outputs": []
    },
    {
      "cell_type": "code",
      "metadata": {
        "deletable": false,
        "editable": false,
        "nbgrader": {
          "cell_type": "code",
          "checksum": "2b145c3a870d06786f4ba2e369331849",
          "grade": true,
          "grade_id": "question_27_answer",
          "locked": true,
          "points": 2,
          "schema_version": 3,
          "solution": false,
          "task": false
        },
        "id": "96J4VPaqNbAf",
        "colab_type": "code",
        "colab": {}
      },
      "source": [
        "# Do not delete this cell, this contains marking script!"
      ],
      "execution_count": 0,
      "outputs": []
    },
    {
      "cell_type": "markdown",
      "metadata": {
        "id": "6zIwnPj5NbAj",
        "colab_type": "text"
      },
      "source": [
        "---\n",
        "### Question 28 (2 point)\n",
        "\n",
        "What is correct about 10-fold cross validation?\n",
        "\n",
        "1) Split the data into 10 sets then it will trains 10 times with every time one different set to be train set and the rest to be test set.\n",
        "\n",
        "2) Split the data into 10 sets then it will trains 10 times with half of them be test set and the rest to be train set.\n",
        "\n",
        "3) Split the data into 10 sets then it will trains 10 times with every time one different set to be test set and the rest to be train set.\n",
        "\n",
        "4) Split the data into 5 sets then it will trains 5 times with every time one different set to be test set and the rest to be train set."
      ]
    },
    {
      "cell_type": "code",
      "metadata": {
        "deletable": false,
        "nbgrader": {
          "cell_type": "code",
          "checksum": "2916f9459375e15d1ae4c5765420894d",
          "grade": false,
          "grade_id": "question_28",
          "locked": false,
          "schema_version": 3,
          "solution": true,
          "task": false
        },
        "id": "JHwIJYhqNbAk",
        "colab_type": "code",
        "colab": {}
      },
      "source": [
        "def question_28():\n",
        "  # YOUR ANSWER HERE\n",
        "  return [3]"
      ],
      "execution_count": 0,
      "outputs": []
    },
    {
      "cell_type": "code",
      "metadata": {
        "deletable": false,
        "editable": false,
        "nbgrader": {
          "cell_type": "code",
          "checksum": "a66d3d5ebd7813079d6c886e9d1296ad",
          "grade": true,
          "grade_id": "question_28_answer",
          "locked": true,
          "points": 2,
          "schema_version": 3,
          "solution": false,
          "task": false
        },
        "id": "tbPMQdT7NbAn",
        "colab_type": "code",
        "colab": {}
      },
      "source": [
        "# Do not delete this cell, this contains marking script!"
      ],
      "execution_count": 0,
      "outputs": []
    },
    {
      "cell_type": "markdown",
      "metadata": {
        "id": "Y1QcwpAgNbAq",
        "colab_type": "text"
      },
      "source": [
        "---\n",
        "### Question 29 (2 point)\n",
        "\n",
        "What is baseline model?\n",
        "\n",
        "1) The most advance model you created to solve the problem\n",
        "\n",
        "2) The model you created with the hight accuracy score \n",
        "\n",
        "3) The final model which you launch to the production\n",
        "\n",
        "4) The first simple model you created which can be used at the reference point to compare your other advance models to.\n"
      ]
    },
    {
      "cell_type": "code",
      "metadata": {
        "deletable": false,
        "nbgrader": {
          "cell_type": "code",
          "checksum": "18ca29fd9403660cd41f2080de861635",
          "grade": false,
          "grade_id": "question_29",
          "locked": false,
          "schema_version": 3,
          "solution": true,
          "task": false
        },
        "id": "CeFNlmluNbAr",
        "colab_type": "code",
        "colab": {}
      },
      "source": [
        "def question_29():\n",
        "  # YOUR ANSWER HERE\n",
        "  return [4]"
      ],
      "execution_count": 0,
      "outputs": []
    },
    {
      "cell_type": "code",
      "metadata": {
        "deletable": false,
        "editable": false,
        "nbgrader": {
          "cell_type": "code",
          "checksum": "794b492b8d36137be4612c50858ad0e7",
          "grade": true,
          "grade_id": "question_29_answer",
          "locked": true,
          "points": 2,
          "schema_version": 3,
          "solution": false,
          "task": false
        },
        "id": "-9Y3MIVLNbAu",
        "colab_type": "code",
        "colab": {}
      },
      "source": [
        "# Do not delete this cell, this contains marking script!"
      ],
      "execution_count": 0,
      "outputs": []
    },
    {
      "cell_type": "markdown",
      "metadata": {
        "id": "CpY52Wu0NbAv",
        "colab_type": "text"
      },
      "source": [
        "---\n",
        "### Question 30 (2 point)\n",
        "\n",
        "When is the measure of impurity maximum and minimum?\n",
        "\n",
        "1) minimum when all classes are equally distributed and maximum when all elements of a node belong to one class.\n",
        "\n",
        "2) maximum when all classes are equally distributed and minimum when all elements of a node belong to one class.\n",
        "\n",
        "3) maximum when there is no element in the node and minimum when all the elements regardless classes in the node.\n",
        "\n",
        "4) maximum when the elements in different classes are very unbalanced and minimum when the elements in different classes are very balanced ."
      ]
    },
    {
      "cell_type": "code",
      "metadata": {
        "deletable": false,
        "nbgrader": {
          "cell_type": "code",
          "checksum": "e3699df96208c55b62a376a31e8f3190",
          "grade": false,
          "grade_id": "question_30",
          "locked": false,
          "schema_version": 3,
          "solution": true,
          "task": false
        },
        "id": "CEy8W8lkNbAw",
        "colab_type": "code",
        "colab": {}
      },
      "source": [
        "def question_30():\n",
        "  # YOUR ANSWER HERE\n",
        "  return [2]"
      ],
      "execution_count": 0,
      "outputs": []
    },
    {
      "cell_type": "code",
      "metadata": {
        "deletable": false,
        "editable": false,
        "nbgrader": {
          "cell_type": "code",
          "checksum": "d9fdf67324dd77b89581c86a87e07324",
          "grade": true,
          "grade_id": "question_30_answer",
          "locked": true,
          "points": 2,
          "schema_version": 3,
          "solution": false,
          "task": false
        },
        "id": "9vgYjZ_xNbA0",
        "colab_type": "code",
        "colab": {}
      },
      "source": [
        "# Do not delete this cell, this contains marking script!"
      ],
      "execution_count": 0,
      "outputs": []
    },
    {
      "cell_type": "markdown",
      "metadata": {
        "id": "-5ENsJEpNbA3",
        "colab_type": "text"
      },
      "source": [
        "### Question 31 (2 point)\n",
        "\n",
        "How do we select which feature to split in decision tree?\n",
        " \n",
        "1) When average gini score of groups after the split is at some threshold\n",
        "\n",
        "2) When average gini score of groups after the split is largest\n",
        "\n",
        "3) When average gini score of groups after the split is positive\n",
        "\n",
        "4) When average gini score of groups after the split is smallest"
      ]
    },
    {
      "cell_type": "code",
      "metadata": {
        "deletable": false,
        "nbgrader": {
          "cell_type": "code",
          "checksum": "82e66aac0e60297159f2f6a0733e72b1",
          "grade": false,
          "grade_id": "question_31",
          "locked": false,
          "schema_version": 3,
          "solution": true,
          "task": false
        },
        "id": "wD5iY9SyNbA6",
        "colab_type": "code",
        "colab": {}
      },
      "source": [
        "def question_31():\n",
        "  # YOUR ANSWER HERE\n",
        "  return [4]"
      ],
      "execution_count": 0,
      "outputs": []
    },
    {
      "cell_type": "code",
      "metadata": {
        "deletable": false,
        "editable": false,
        "nbgrader": {
          "cell_type": "code",
          "checksum": "3a770875d1808d94da6780de586ec4a0",
          "grade": true,
          "grade_id": "question_31_answer",
          "locked": true,
          "points": 2,
          "schema_version": 3,
          "solution": false,
          "task": false
        },
        "id": "3HrTBU-rNbA8",
        "colab_type": "code",
        "colab": {}
      },
      "source": [
        "# Do not delete this cell, this contains marking script!"
      ],
      "execution_count": 0,
      "outputs": []
    },
    {
      "cell_type": "markdown",
      "metadata": {
        "id": "vClewm7SNbA_",
        "colab_type": "text"
      },
      "source": [
        "### Question 32 (2 point)\n",
        "\n",
        "When you go to the hosiptal to check up if you got a cancer or not. After the check up, the doctor tells you that you got a cancer but you actually dont have a cancer, what is that in confusion matrix?\n",
        "\n",
        "1) True Positive\n",
        "\n",
        "2) False Positive\n",
        "\n",
        "3) True Negative\n",
        "\n",
        "3) False Negative"
      ]
    },
    {
      "cell_type": "code",
      "metadata": {
        "deletable": false,
        "nbgrader": {
          "cell_type": "code",
          "checksum": "786fc5aa7525c94594822f9a3287abfa",
          "grade": false,
          "grade_id": "question_32",
          "locked": false,
          "schema_version": 3,
          "solution": true,
          "task": false
        },
        "id": "coHsV_1xNbA_",
        "colab_type": "code",
        "colab": {}
      },
      "source": [
        "def question_32():\n",
        "  # YOUR ANSWER HERE\n",
        "  return [2]"
      ],
      "execution_count": 0,
      "outputs": []
    },
    {
      "cell_type": "code",
      "metadata": {
        "deletable": false,
        "editable": false,
        "nbgrader": {
          "cell_type": "code",
          "checksum": "cf7d7e9020004201b25df66ad25ee55c",
          "grade": true,
          "grade_id": "question_32_answer",
          "locked": true,
          "points": 2,
          "schema_version": 3,
          "solution": false,
          "task": false
        },
        "id": "ur1dDIzbNbBA",
        "colab_type": "code",
        "colab": {}
      },
      "source": [
        "# Do not delete this cell, this contains marking script!"
      ],
      "execution_count": 0,
      "outputs": []
    },
    {
      "cell_type": "markdown",
      "metadata": {
        "id": "-jwB-RHrNbBC",
        "colab_type": "text"
      },
      "source": [
        "### Question 33 (2 point)\n",
        "\n",
        "What is the trade off between precision and recall ?\n",
        "\n",
        "1) precision and recall increase together\n",
        "\n",
        "2) precision and recall decrease together\n",
        "\n",
        "3) precision and recall rise and fall in opposite direction\n",
        "\n",
        "4) precision and recall does not have any relationship"
      ]
    },
    {
      "cell_type": "code",
      "metadata": {
        "deletable": false,
        "nbgrader": {
          "cell_type": "code",
          "checksum": "45d5916307d8ba6ed7c5c998d4f4050a",
          "grade": false,
          "grade_id": "question_33",
          "locked": false,
          "schema_version": 3,
          "solution": true,
          "task": false
        },
        "id": "nreCcyoLNbBD",
        "colab_type": "code",
        "colab": {}
      },
      "source": [
        "def question_33():\n",
        "  # YOUR ANSWER HERE\n",
        "  return [3]"
      ],
      "execution_count": 0,
      "outputs": []
    },
    {
      "cell_type": "code",
      "metadata": {
        "deletable": false,
        "editable": false,
        "nbgrader": {
          "cell_type": "code",
          "checksum": "1d529934a61f827f20bc05796a903866",
          "grade": true,
          "grade_id": "question_33_answer",
          "locked": true,
          "points": 2,
          "schema_version": 3,
          "solution": false,
          "task": false
        },
        "id": "F7joC1RQNbBE",
        "colab_type": "code",
        "colab": {}
      },
      "source": [
        "# Do not delete this cell, this contains marking script!"
      ],
      "execution_count": 0,
      "outputs": []
    },
    {
      "cell_type": "markdown",
      "metadata": {
        "id": "bL6H79I9NbBG",
        "colab_type": "text"
      },
      "source": [
        "### Question 34 (2 point)\n",
        "\n",
        "Instead of Arithmetic Mean, why we use F1-score ?\n",
        "\n",
        "1) To have a more unbiased and balanced evaluation of the model in term of the combination of precision and recall as the weighted average.\n",
        "\n",
        "2) Because it is cool to use the term F1 which is the racing tournament\n",
        "\n",
        "3) Because it is closer to the largest number between precision and recall\n",
        "\n",
        "4) Because everyone uses it"
      ]
    },
    {
      "cell_type": "code",
      "metadata": {
        "deletable": false,
        "nbgrader": {
          "cell_type": "code",
          "checksum": "67f164c3c5ac3be48bd86005f541ebee",
          "grade": false,
          "grade_id": "question_34",
          "locked": false,
          "schema_version": 3,
          "solution": true,
          "task": false
        },
        "id": "Rshjve95NbBH",
        "colab_type": "code",
        "colab": {}
      },
      "source": [
        "def question_34():\n",
        "  # YOUR ANSWER HERE\n",
        "  return [1]"
      ],
      "execution_count": 0,
      "outputs": []
    },
    {
      "cell_type": "code",
      "metadata": {
        "deletable": false,
        "editable": false,
        "nbgrader": {
          "cell_type": "code",
          "checksum": "f3cd42c62c51818eba5222b17f50be9c",
          "grade": true,
          "grade_id": "question_34_answer",
          "locked": true,
          "points": 2,
          "schema_version": 3,
          "solution": false,
          "task": false
        },
        "id": "rUtTgfRGNbBJ",
        "colab_type": "code",
        "colab": {}
      },
      "source": [
        "# Do not delete this cell, this contains marking script!"
      ],
      "execution_count": 0,
      "outputs": []
    },
    {
      "cell_type": "markdown",
      "metadata": {
        "id": "p1nvM0GcNbBK",
        "colab_type": "text"
      },
      "source": [
        "### Question 35 (2 point)\n",
        "\n",
        "What is the difference between hard margin SVM and soft margin SVM?\n",
        "\n",
        "1) Hard margin SVM corresponds to very small C value and soft margin SVM corresponds to very big C value.\n",
        "\n",
        "2) Hard margin SVM works well only for the linear separable data to allow zero errors so it is likely to overfit while soft margin SVM is more flexible which works well with nearly linear separable data (with nois5) so it tolerate miss-classified points within its margin, thus it is less likely to overfit.\n",
        "\n",
        "3) Soft margin svm is more likely to overfit compared to hard margin SVM.\n",
        "\n",
        "4) Soft margin svm has more narrower margin compared to hard margin SVM. "
      ]
    },
    {
      "cell_type": "code",
      "metadata": {
        "deletable": false,
        "nbgrader": {
          "cell_type": "code",
          "checksum": "0613ca824b43fc375108d484c2f9bccb",
          "grade": false,
          "grade_id": "question_35",
          "locked": false,
          "schema_version": 3,
          "solution": true,
          "task": false
        },
        "id": "7ECOzf2yNbBL",
        "colab_type": "code",
        "colab": {}
      },
      "source": [
        "def question_35():\n",
        "  # YOUR ANSWER HERE\n",
        "  return [2]"
      ],
      "execution_count": 0,
      "outputs": []
    },
    {
      "cell_type": "code",
      "metadata": {
        "deletable": false,
        "editable": false,
        "nbgrader": {
          "cell_type": "code",
          "checksum": "78319843c7119f93a4f113f572e6f4b1",
          "grade": true,
          "grade_id": "question_35_answer",
          "locked": true,
          "points": 2,
          "schema_version": 3,
          "solution": false,
          "task": false
        },
        "id": "AditKK50NbBN",
        "colab_type": "code",
        "colab": {}
      },
      "source": [
        "# Do not delete this cell, this contains marking script!"
      ],
      "execution_count": 0,
      "outputs": []
    },
    {
      "cell_type": "markdown",
      "metadata": {
        "id": "pVzTUyyRNbBP",
        "colab_type": "text"
      },
      "source": [
        "### Question 36 (2 point)\n",
        "\n",
        "Can Principle Component Analysis (PCA) help us to reduce or remove noise in the data?\n",
        "\n",
        "1) Yes\n",
        "\n",
        "2) No\n",
        "\n",
        "3) Not sure"
      ]
    },
    {
      "cell_type": "code",
      "metadata": {
        "deletable": false,
        "nbgrader": {
          "cell_type": "code",
          "checksum": "2884396e1cf57f69b3d3293f4b255c4e",
          "grade": false,
          "grade_id": "question_36",
          "locked": false,
          "schema_version": 3,
          "solution": true,
          "task": false
        },
        "id": "BsAi3UMWNbBQ",
        "colab_type": "code",
        "colab": {}
      },
      "source": [
        "def question_36():\n",
        "  # YOUR ANSWER HERE\n",
        "  return [1]"
      ],
      "execution_count": 0,
      "outputs": []
    },
    {
      "cell_type": "code",
      "metadata": {
        "deletable": false,
        "editable": false,
        "nbgrader": {
          "cell_type": "code",
          "checksum": "6d9f57df3afcef547f56bd3911894afc",
          "grade": true,
          "grade_id": "question_36_answer",
          "locked": true,
          "points": 2,
          "schema_version": 3,
          "solution": false,
          "task": false
        },
        "id": "ZMmlNQu2NbBW",
        "colab_type": "code",
        "colab": {}
      },
      "source": [
        "# Do not delete this cell, this contains marking script!"
      ],
      "execution_count": 0,
      "outputs": []
    },
    {
      "cell_type": "markdown",
      "metadata": {
        "id": "sLl4FXTmNbBX",
        "colab_type": "text"
      },
      "source": [
        "### Question 37 (2 point)\n",
        "\n",
        "What is the difference between a bar chart and a histogram?\n",
        "\n",
        "1) Bar charts represent numbers, whereas histograms represent distribution.\n",
        "\n",
        "2) A histogram does not show the entire range of scores in a distribution.\n",
        "\n",
        "3) There are no gaps between the bars on a histogram.\n",
        "\n",
        "4) Bar charts are circular, whereas histograms are square."
      ]
    },
    {
      "cell_type": "code",
      "metadata": {
        "deletable": false,
        "nbgrader": {
          "cell_type": "code",
          "checksum": "e039f1a253f380355fe0d6bc4c91038d",
          "grade": false,
          "grade_id": "question_37",
          "locked": false,
          "schema_version": 3,
          "solution": true,
          "task": false
        },
        "id": "vyrOXrnrNbBZ",
        "colab_type": "code",
        "colab": {}
      },
      "source": [
        "def question_37():\n",
        "  # YOUR ANSWER HERE\n",
        "  return [1]"
      ],
      "execution_count": 0,
      "outputs": []
    },
    {
      "cell_type": "code",
      "metadata": {
        "deletable": false,
        "editable": false,
        "nbgrader": {
          "cell_type": "code",
          "checksum": "262fdb04afc0b47a1c2eeab61d94d22f",
          "grade": true,
          "grade_id": "question_37_answer",
          "locked": true,
          "points": 2,
          "schema_version": 3,
          "solution": false,
          "task": false
        },
        "id": "TbqeHec-NbBa",
        "colab_type": "code",
        "colab": {}
      },
      "source": [
        "# Do not delete this cell, this contains marking script!"
      ],
      "execution_count": 0,
      "outputs": []
    },
    {
      "cell_type": "markdown",
      "metadata": {
        "id": "C9EqA7NlNbBd",
        "colab_type": "text"
      },
      "source": [
        "### Question 38 (2 point)\n",
        "\n",
        "If you are asked to show the percentage of people who vote in the U.S election, which illustration should you choose?\n",
        "\n",
        "1) Bar Chart\n",
        "\n",
        "2) Pie Chart\n",
        "\n",
        "3) Line Chart\n",
        "\n",
        "4) Scatter Plot"
      ]
    },
    {
      "cell_type": "code",
      "metadata": {
        "deletable": false,
        "nbgrader": {
          "cell_type": "code",
          "checksum": "473207909b6068e218100afb5cc4cf50",
          "grade": false,
          "grade_id": "question_38",
          "locked": false,
          "schema_version": 3,
          "solution": true,
          "task": false
        },
        "id": "vhzbYDnRNbBe",
        "colab_type": "code",
        "colab": {}
      },
      "source": [
        "def question_38():\n",
        "  # YOUR ANSWER HERE\n",
        "  return [2]"
      ],
      "execution_count": 0,
      "outputs": []
    },
    {
      "cell_type": "code",
      "metadata": {
        "deletable": false,
        "editable": false,
        "nbgrader": {
          "cell_type": "code",
          "checksum": "bd5b85340f6cc31e357c53612593dc08",
          "grade": true,
          "grade_id": "question_38_answer",
          "locked": true,
          "points": 2,
          "schema_version": 3,
          "solution": false,
          "task": false
        },
        "id": "j5gHnu_KNbBg",
        "colab_type": "code",
        "colab": {}
      },
      "source": [
        "# Do not delete this cell, this contains marking script!"
      ],
      "execution_count": 0,
      "outputs": []
    },
    {
      "cell_type": "markdown",
      "metadata": {
        "id": "N6yn5RYkNbBi",
        "colab_type": "text"
      },
      "source": [
        "### Question 39 (2 point)\n",
        "\n",
        "Standard Deviation can be negative\n",
        "\n",
        "1) True\n",
        "\n",
        "2) False"
      ]
    },
    {
      "cell_type": "code",
      "metadata": {
        "deletable": false,
        "nbgrader": {
          "cell_type": "code",
          "checksum": "e9eea5577e997438788a826d59e07384",
          "grade": false,
          "grade_id": "question_39",
          "locked": false,
          "schema_version": 3,
          "solution": true,
          "task": false
        },
        "id": "GBQF6bmNNbBj",
        "colab_type": "code",
        "colab": {}
      },
      "source": [
        "def question_39():\n",
        "  # YOUR ANSWER HERE\n",
        "  return [2]"
      ],
      "execution_count": 0,
      "outputs": []
    },
    {
      "cell_type": "code",
      "metadata": {
        "deletable": false,
        "editable": false,
        "nbgrader": {
          "cell_type": "code",
          "checksum": "bc1137bc06c261f9f6e838d238c5e9a2",
          "grade": true,
          "grade_id": "question_39_answer",
          "locked": true,
          "points": 2,
          "schema_version": 3,
          "solution": false,
          "task": false
        },
        "id": "Blw7dU4oNbBn",
        "colab_type": "code",
        "colab": {}
      },
      "source": [
        "# Do not delete this cell, this contains marking script!"
      ],
      "execution_count": 0,
      "outputs": []
    },
    {
      "cell_type": "markdown",
      "metadata": {
        "id": "jvLgDBcVNbBp",
        "colab_type": "text"
      },
      "source": [
        "### Question 40 (2 point)\n",
        "\n",
        "Correlation describes causality between variables\n",
        "\n",
        "1) True\n",
        "\n",
        "2) False"
      ]
    },
    {
      "cell_type": "code",
      "metadata": {
        "deletable": false,
        "nbgrader": {
          "cell_type": "code",
          "checksum": "51bcf38c73124c736c768e0500c4fe7c",
          "grade": false,
          "grade_id": "question_40",
          "locked": false,
          "schema_version": 3,
          "solution": true,
          "task": false
        },
        "id": "sVZ5MW0cNbBp",
        "colab_type": "code",
        "colab": {}
      },
      "source": [
        "def question_40():\n",
        "  # YOUR ANSWER HERE\n",
        "  return [2]"
      ],
      "execution_count": 0,
      "outputs": []
    },
    {
      "cell_type": "code",
      "metadata": {
        "deletable": false,
        "editable": false,
        "nbgrader": {
          "cell_type": "code",
          "checksum": "a7a08b01fb1e5c00d9a9f60c8d719b08",
          "grade": true,
          "grade_id": "question_40_answer",
          "locked": true,
          "points": 2,
          "schema_version": 3,
          "solution": false,
          "task": false
        },
        "id": "lzsrFVLaNbBr",
        "colab_type": "code",
        "colab": {}
      },
      "source": [
        "# Do not delete this cell, this contains marking script!"
      ],
      "execution_count": 0,
      "outputs": []
    },
    {
      "cell_type": "markdown",
      "metadata": {
        "id": "bYY1e9QdNbBs",
        "colab_type": "text"
      },
      "source": [
        "### Question 41 (2 point)\n",
        "\n",
        "Descriptive Statistics is used to describe a sample, while Inferential Statistics makes inference about the population.\n",
        "\n",
        "1) True\n",
        "\n",
        "2) False"
      ]
    },
    {
      "cell_type": "code",
      "metadata": {
        "deletable": false,
        "nbgrader": {
          "cell_type": "code",
          "checksum": "31fc2961a7f8e3f1f68f2d07a5ed6dd7",
          "grade": false,
          "grade_id": "question_41",
          "locked": false,
          "schema_version": 3,
          "solution": true,
          "task": false
        },
        "id": "Cdv63RFBNbBt",
        "colab_type": "code",
        "colab": {}
      },
      "source": [
        "def question_41():\n",
        "  # YOUR ANSWER HERE\n",
        "  return [1] "
      ],
      "execution_count": 0,
      "outputs": []
    },
    {
      "cell_type": "code",
      "metadata": {
        "deletable": false,
        "editable": false,
        "nbgrader": {
          "cell_type": "code",
          "checksum": "c2c974849f9454236174cdee53c124ed",
          "grade": true,
          "grade_id": "question_41_answer",
          "locked": true,
          "points": 2,
          "schema_version": 3,
          "solution": false,
          "task": false
        },
        "id": "EBwYV5dpNbBu",
        "colab_type": "code",
        "colab": {}
      },
      "source": [
        "# Do not delete this cell, this contains marking script!"
      ],
      "execution_count": 0,
      "outputs": []
    },
    {
      "cell_type": "markdown",
      "metadata": {
        "id": "4x2BbZVQNbBv",
        "colab_type": "text"
      },
      "source": [
        "### Question 42 (2 point)\n",
        "What is the loss function used in Logistic Regression?\n",
        "\n",
        "1) Mean Squared Error (MS5)\n",
        "\n",
        "2) Mean Absolute Error (MA5)\n",
        "\n",
        "3) Log Loss\n",
        "\n",
        "4) Root Mean Square Error (RMS5)"
      ]
    },
    {
      "cell_type": "code",
      "metadata": {
        "deletable": false,
        "nbgrader": {
          "cell_type": "code",
          "checksum": "df6f78bf9bb571af0d11f83f0b61ae1e",
          "grade": false,
          "grade_id": "question_42",
          "locked": false,
          "schema_version": 3,
          "solution": true,
          "task": false
        },
        "id": "n0okWbaGNbBv",
        "colab_type": "code",
        "colab": {}
      },
      "source": [
        "def question_42():\n",
        "  # YOUR ANSWER HERE\n",
        "  return [3]"
      ],
      "execution_count": 0,
      "outputs": []
    },
    {
      "cell_type": "code",
      "metadata": {
        "deletable": false,
        "editable": false,
        "nbgrader": {
          "cell_type": "code",
          "checksum": "4eacd084c742eddfeb0ce598a1d821f1",
          "grade": true,
          "grade_id": "question_42_answer",
          "locked": true,
          "points": 2,
          "schema_version": 3,
          "solution": false,
          "task": false
        },
        "id": "lt_lZCSgNbBw",
        "colab_type": "code",
        "colab": {}
      },
      "source": [
        "# Do not delete this cell, this contains marking script!"
      ],
      "execution_count": 0,
      "outputs": []
    },
    {
      "cell_type": "markdown",
      "metadata": {
        "id": "WW98NTuGNbB0",
        "colab_type": "text"
      },
      "source": [
        "### Question 43 (2 point)\n",
        "\n",
        "What metrics do we use to assess a logistic regression model?\n",
        "\n",
        "1) Accuracy\n",
        "\n",
        "2) Precision\n",
        "\n",
        "3) Recall\n",
        "\n",
        "4) All of above\n"
      ]
    },
    {
      "cell_type": "code",
      "metadata": {
        "deletable": false,
        "nbgrader": {
          "cell_type": "code",
          "checksum": "2b20cb6471db5793b742b454c135f37e",
          "grade": false,
          "grade_id": "question_43",
          "locked": false,
          "schema_version": 3,
          "solution": true,
          "task": false
        },
        "id": "NZrh52bNNbB1",
        "colab_type": "code",
        "colab": {}
      },
      "source": [
        "def question_43():\n",
        "  # YOUR ANSWER HERE\n",
        "  return [4]"
      ],
      "execution_count": 0,
      "outputs": []
    },
    {
      "cell_type": "code",
      "metadata": {
        "deletable": false,
        "editable": false,
        "nbgrader": {
          "cell_type": "code",
          "checksum": "ecc8f53c08531f2180e248b043e46310",
          "grade": true,
          "grade_id": "question_43_answer",
          "locked": true,
          "points": 2,
          "schema_version": 3,
          "solution": false,
          "task": false
        },
        "id": "rIHufHJgNbB2",
        "colab_type": "code",
        "colab": {}
      },
      "source": [
        "# Do not delete this cell, this contains marking script!"
      ],
      "execution_count": 0,
      "outputs": []
    },
    {
      "cell_type": "markdown",
      "metadata": {
        "id": "Rf37rS4_NbB3",
        "colab_type": "text"
      },
      "source": [
        "### Question 44 (2 point)\n",
        "\n",
        "Having a high degree of polynomial features of a linear regression model will make it more likely to underfit\n",
        "\n",
        "1) True\n",
        "\n",
        "2) False"
      ]
    },
    {
      "cell_type": "code",
      "metadata": {
        "deletable": false,
        "nbgrader": {
          "cell_type": "code",
          "checksum": "f43392b353baba6af9e78d0e1471aedd",
          "grade": false,
          "grade_id": "question_44",
          "locked": false,
          "schema_version": 3,
          "solution": true,
          "task": false
        },
        "id": "cUULIDwENbB3",
        "colab_type": "code",
        "colab": {}
      },
      "source": [
        "def question_44():\n",
        "  # YOUR ANSWER HERE\n",
        "  return [2]"
      ],
      "execution_count": 0,
      "outputs": []
    },
    {
      "cell_type": "code",
      "metadata": {
        "deletable": false,
        "editable": false,
        "nbgrader": {
          "cell_type": "code",
          "checksum": "4ee6b805f417e7246837706a18de0249",
          "grade": true,
          "grade_id": "question_44_answer",
          "locked": true,
          "points": 2,
          "schema_version": 3,
          "solution": false,
          "task": false
        },
        "id": "D1ZqT8i4NbB5",
        "colab_type": "code",
        "colab": {}
      },
      "source": [
        "# Do not delete this cell, this contains marking script!"
      ],
      "execution_count": 0,
      "outputs": []
    },
    {
      "cell_type": "markdown",
      "metadata": {
        "id": "uiHTgsmcNbB6",
        "colab_type": "text"
      },
      "source": [
        "### Question 45 (2 point)\n",
        "\n",
        "Polynomial regression model is considered non-linear model\n",
        "\n",
        "1) True\n",
        "\n",
        "2) False"
      ]
    },
    {
      "cell_type": "code",
      "metadata": {
        "deletable": false,
        "nbgrader": {
          "cell_type": "code",
          "checksum": "ab6e1cc369e5dd13acf767c1c4847565",
          "grade": false,
          "grade_id": "question_45",
          "locked": false,
          "schema_version": 3,
          "solution": true,
          "task": false
        },
        "id": "GRxAAkS5NbB7",
        "colab_type": "code",
        "colab": {}
      },
      "source": [
        "def question_45():\n",
        "  # YOUR ANSWER HERE\n",
        "  return [2]"
      ],
      "execution_count": 0,
      "outputs": []
    },
    {
      "cell_type": "code",
      "metadata": {
        "deletable": false,
        "editable": false,
        "nbgrader": {
          "cell_type": "code",
          "checksum": "d4cb7b3f921464ee7d713c6a24cc62b4",
          "grade": true,
          "grade_id": "question_45_answer",
          "locked": true,
          "points": 2,
          "schema_version": 3,
          "solution": false,
          "task": false
        },
        "id": "tsPMyzn_NbB8",
        "colab_type": "code",
        "colab": {}
      },
      "source": [
        "# Do not delete this cell, this contains marking script!"
      ],
      "execution_count": 0,
      "outputs": []
    },
    {
      "cell_type": "markdown",
      "metadata": {
        "id": "npQD6BgGNbB9",
        "colab_type": "text"
      },
      "source": [
        "### Question 46 (2 point)\n",
        "\n",
        "Which of the following statement is false about the best fit line?\n",
        "\n",
        "1) The best fit line is the line that best represent our data\n",
        "\n",
        "2) To find the best fit line, we maximize the loss function\n",
        "\n",
        "3) A best fit line might not pass through all data points\n",
        "\n",
        "4) All of the above is true"
      ]
    },
    {
      "cell_type": "code",
      "metadata": {
        "deletable": false,
        "nbgrader": {
          "cell_type": "code",
          "checksum": "abec1a6d339bfd4cb48922a4ef2f1e17",
          "grade": false,
          "grade_id": "question_46",
          "locked": false,
          "schema_version": 3,
          "solution": true,
          "task": false
        },
        "id": "LMD5pratNbB-",
        "colab_type": "code",
        "colab": {}
      },
      "source": [
        "def question_46():\n",
        "  # YOUR ANSWER HERE\n",
        "  return [2]"
      ],
      "execution_count": 0,
      "outputs": []
    },
    {
      "cell_type": "code",
      "metadata": {
        "deletable": false,
        "editable": false,
        "nbgrader": {
          "cell_type": "code",
          "checksum": "a4686ed5f99a71647821fc9b339c5818",
          "grade": true,
          "grade_id": "question_46_answer",
          "locked": true,
          "points": 2,
          "schema_version": 3,
          "solution": false,
          "task": false
        },
        "id": "gOrJEcptNbCB",
        "colab_type": "code",
        "colab": {}
      },
      "source": [
        "# Do not delete this cell, this contains marking script!"
      ],
      "execution_count": 0,
      "outputs": []
    },
    {
      "cell_type": "markdown",
      "metadata": {
        "id": "-XvrmQuJNbCF",
        "colab_type": "text"
      },
      "source": [
        "### Question 47 (2 point)\n",
        "\n",
        "What is difference between high bias and high variance models ?\n",
        "\n",
        "1) model with high bias will pay less attention to details on training data so it tends to oversimplify the model leading to underfit the data while model with high variance will pay much attention to details on training data so it tends to overcomplicate the model leading to overfit the data\n",
        "\n",
        "2) model with high bias will pay less attention to details on training data so it tends to oversimplify the model leading to underfit the data while model with low variance will pay much attention to details on training data so it tends to overcomplicate the model leading to overfit the data\n",
        "\n",
        "3) model with low bias will pay less attention to details on training data so it tends to oversimplify the model leading to underfit the data while model with low variance will pay much attention to details on training data so it tends to overcomplicate the model leading to overfit the data\n",
        "\n",
        "4) model with low bias will pay less attention to details on training data so it tends to oversimplify the model leading to underfit the data while model with high variance will pay much attention to details on training data so it tends to overcomplicate the model leading to overfit the data"
      ]
    },
    {
      "cell_type": "code",
      "metadata": {
        "deletable": false,
        "nbgrader": {
          "cell_type": "code",
          "checksum": "1dff354c86ab2fb5c5017f9f2e3dc894",
          "grade": false,
          "grade_id": "question_47",
          "locked": false,
          "schema_version": 3,
          "solution": true,
          "task": false
        },
        "id": "zdf0fMuFNbCG",
        "colab_type": "code",
        "colab": {}
      },
      "source": [
        "def question_47():\n",
        "  # YOUR ANSWER HERE\n",
        "  return [1]"
      ],
      "execution_count": 0,
      "outputs": []
    },
    {
      "cell_type": "code",
      "metadata": {
        "deletable": false,
        "editable": false,
        "nbgrader": {
          "cell_type": "code",
          "checksum": "30b1470fbda87daed75a4aa0c32971fc",
          "grade": true,
          "grade_id": "question_47_answer",
          "locked": true,
          "points": 2,
          "schema_version": 3,
          "solution": false,
          "task": false
        },
        "id": "YFQ_KSPsNbCM",
        "colab_type": "code",
        "colab": {}
      },
      "source": [
        "# Do not delete this cell, this contains marking script!"
      ],
      "execution_count": 0,
      "outputs": []
    },
    {
      "cell_type": "markdown",
      "metadata": {
        "id": "dus8g7IDNbCN",
        "colab_type": "text"
      },
      "source": [
        "### Question 48 (2 point)\n",
        "\n",
        "Why do random forest usually has better performance than decision tree?\n",
        "\n",
        "1) Because many trees help to project the data into higher dimension space.\n",
        "\n",
        "2) Many trees's votes are more reliable than a single tree's vote due to wisdom of the crowd, which can help avoid overfitting compared to decision tree.\n",
        "\n",
        "3) Because trees in random forest are totally independent to each other so their votes are more reliable and unbiased.\n",
        "\n",
        "4) Because random forest creates and adds more features into our trainig data."
      ]
    },
    {
      "cell_type": "code",
      "metadata": {
        "deletable": false,
        "nbgrader": {
          "cell_type": "code",
          "checksum": "5e0c3582eba6d06ed7779e071d233357",
          "grade": false,
          "grade_id": "question_48",
          "locked": false,
          "schema_version": 3,
          "solution": true,
          "task": false
        },
        "id": "2BGFbl_kNbCN",
        "colab_type": "code",
        "colab": {}
      },
      "source": [
        "def question_48():\n",
        "  # YOUR ANSWER HERE\n",
        "  return [2]"
      ],
      "execution_count": 0,
      "outputs": []
    },
    {
      "cell_type": "code",
      "metadata": {
        "deletable": false,
        "editable": false,
        "nbgrader": {
          "cell_type": "code",
          "checksum": "b3ed6e0bbb6f35820ef139ef5b14c738",
          "grade": true,
          "grade_id": "question_48_answer",
          "locked": true,
          "points": 2,
          "schema_version": 3,
          "solution": false,
          "task": false
        },
        "id": "rMXAdZOuNbCQ",
        "colab_type": "code",
        "colab": {}
      },
      "source": [
        "# Do not delete this cell, this contains marking script!"
      ],
      "execution_count": 0,
      "outputs": []
    },
    {
      "cell_type": "markdown",
      "metadata": {
        "id": "h1Xe2cVFNbCT",
        "colab_type": "text"
      },
      "source": [
        "### Question 49 (2 point)\n",
        "\n",
        "Why is SVM Kernel trick so helpful ?\n",
        "\n",
        "1) Because it allows the model to create decision bounary for linear seperate data.\n",
        "\n",
        "2) Because it help to remove noise in the data.\n",
        "\n",
        "3) Because it help to detect outliners in the data\n",
        "\n",
        "4) Because it help to project efficiently the non-linear seperable data into higher dimension for the model to seperate them."
      ]
    },
    {
      "cell_type": "code",
      "metadata": {
        "deletable": false,
        "nbgrader": {
          "cell_type": "code",
          "checksum": "16029d6f3a8382616815d9ac08e519dd",
          "grade": false,
          "grade_id": "question_49",
          "locked": false,
          "schema_version": 3,
          "solution": true,
          "task": false
        },
        "id": "3z04KhvqNbCa",
        "colab_type": "code",
        "colab": {}
      },
      "source": [
        "def question_49():\n",
        "  # YOUR ANSWER HERE\n",
        "  return [4]"
      ],
      "execution_count": 0,
      "outputs": []
    },
    {
      "cell_type": "code",
      "metadata": {
        "deletable": false,
        "editable": false,
        "nbgrader": {
          "cell_type": "code",
          "checksum": "b188e65eb088070858a45d25d8ed107a",
          "grade": true,
          "grade_id": "question_49_answer",
          "locked": true,
          "points": 2,
          "schema_version": 3,
          "solution": false,
          "task": false
        },
        "id": "ac7TI-_UNbCd",
        "colab_type": "code",
        "colab": {}
      },
      "source": [
        "# Do not delete this cell, this contains marking script!"
      ],
      "execution_count": 0,
      "outputs": []
    },
    {
      "cell_type": "markdown",
      "metadata": {
        "id": "6r3SKjehNbCh",
        "colab_type": "text"
      },
      "source": [
        "### Question 50 (2 point)\n",
        "\n",
        "What is true about regularization ?\n",
        "\n",
        "1) regularization add penalty terms in the loss function to restrict the flexibility of the model to advoid overfitting.\n",
        "\n",
        "2) regularization is the main technique for standardization and normalization\n",
        "\n",
        "3) strict regularization should be applied on every model regardless of the dataset\n",
        "\n",
        "4) regularization is very discoraged if the data contains noise and outliners"
      ]
    },
    {
      "cell_type": "code",
      "metadata": {
        "deletable": false,
        "nbgrader": {
          "cell_type": "code",
          "checksum": "3e138b14c316a9d45e1d6c48e03e80ba",
          "grade": false,
          "grade_id": "question_50",
          "locked": false,
          "schema_version": 3,
          "solution": true,
          "task": false
        },
        "id": "heu-qxLCNbCh",
        "colab_type": "code",
        "colab": {}
      },
      "source": [
        "def question_50():\n",
        "  # YOUR ANSWER HERE\n",
        "  return [1]"
      ],
      "execution_count": 0,
      "outputs": []
    },
    {
      "cell_type": "code",
      "metadata": {
        "deletable": false,
        "editable": false,
        "nbgrader": {
          "cell_type": "code",
          "checksum": "bf72844d3ceb51bbfe4c98f9ce1f94bb",
          "grade": true,
          "grade_id": "question_50_answer",
          "locked": true,
          "points": 2,
          "schema_version": 3,
          "solution": false,
          "task": false
        },
        "id": "s7MA8eCCNbCj",
        "colab_type": "code",
        "colab": {}
      },
      "source": [
        "# Do not delete this cell, this contains marking script!"
      ],
      "execution_count": 0,
      "outputs": []
    },
    {
      "cell_type": "markdown",
      "metadata": {
        "id": "corXwJa3NbCl",
        "colab_type": "text"
      },
      "source": [
        "Phew, that's it! That's all 50 questions of test module 3! I hope this test will help you prepare well for the upcoming mock interview! Good lucks guys! \n",
        "\n",
        "<img src=\"https://www.nexus-education.com/wp-content/uploads/2018/01/Picture.jpg\" width=\"300\">\n",
        "\n"
      ]
    },
    {
      "cell_type": "code",
      "metadata": {
        "id": "WqGbytuoNbCm",
        "colab_type": "code",
        "colab": {}
      },
      "source": [
        ""
      ],
      "execution_count": 0,
      "outputs": []
    }
  ]
}